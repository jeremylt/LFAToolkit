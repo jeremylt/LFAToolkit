{
 "cells": [
  {
   "cell_type": "markdown",
   "metadata": {},
   "source": [
    "# Dirichlet BDDC Example"
   ]
  },
  {
   "cell_type": "code",
   "execution_count": null,
   "metadata": {},
   "outputs": [],
   "source": [
    "# dependencies\n",
    "using LFAToolkit\n",
    "using LinearAlgebra\n",
    "using Pkg\n",
    "Pkg.activate(\"./\")\n",
    "Pkg.instantiate()\n",
    "using Plots"
   ]
  },
  {
   "cell_type": "code",
   "execution_count": null,
   "metadata": {
    "code_folding": []
   },
   "outputs": [],
   "source": [
    "# setup\n",
    "p = 2\n",
    "mesh = Mesh2D(1.0, 1.0)\n",
    "numberelements1d = 4\n",
    "\n",
    "# operator\n",
    "diffusion = GalleryMacroElementOperator(\"diffusion\", p, p + 1, numberelements1d, mesh);\n",
    "\n",
    "# bddc smoother\n",
    "bddc = DirichletBDDC(diffusion)"
   ]
  },
  {
   "cell_type": "code",
   "execution_count": null,
   "metadata": {
    "code_folding": [
     12,
     28
    ],
    "scrolled": true
   },
   "outputs": [],
   "source": [
    "# full operator symbols\n",
    "numberruns = 250\n",
    "maxeigenvalue = 0\n",
    "θ_min = -π/2\n",
    "θ_max = 3π/2\n",
    "\n",
    "# compute and plot smoothing factor\n",
    "# setup\n",
    "ω = [0.2]\n",
    "maxeigenvalues = zeros(numberruns, numberruns)\n",
    "\n",
    "# compute\n",
    "for i in 1:numberruns, j in 1:numberruns\n",
    "    θ = [\n",
    "        θ_min + (θ_max - θ_min)*i/numberruns,\n",
    "        θ_min + (θ_max - θ_min)*j/numberruns\n",
    "    ]\n",
    "    if sqrt(abs(θ[1] % 2π)^2 + abs(θ[2] % 2π)^2) > π/128\n",
    "        A = computesymbols(bddc, ω, θ)\n",
    "        eigenvalues = [abs(val) for val in eigvals(I-A)]\n",
    "        maxeigenvalues[i, j] = max(eigenvalues...)\n",
    "        maxeigenvalue = max(maxeigenvalue, maxeigenvalues[i, j])\n",
    "    end\n",
    "end\n",
    "\n",
    "# plot\n",
    "println(\"max eigenvalue: \", maxeigenvalue)\n",
    "xrange = θ_min/π:(θ_max - θ_min)/π/(numberruns-1):θ_max/π\n",
    "heatmap(\n",
    "    xrange,\n",
    "    xlabel=\"θ/π\",\n",
    "    xtickfont=font(12, \"Courier\"),\n",
    "    xrange,\n",
    "    ylabel=\"θ/π\",\n",
    "    ytickfont=font(12, \"Courier\"),\n",
    "    maxeigenvalues,\n",
    "    title=\"Dirichlet BDDC Error Symbol\",\n",
    "    transpose=true,\n",
    "    aspect_ratio=:equal\n",
    ")\n",
    "xlims!(θ_min/π, θ_max/π)\n",
    "ylims!(θ_min/π, θ_max/π)"
   ]
  }
 ],
 "metadata": {
  "kernelspec": {
   "display_name": "Julia 1.5.2",
   "language": "julia",
   "name": "julia-1.5"
  },
  "language_info": {
   "file_extension": ".jl",
   "mimetype": "application/julia",
   "name": "julia",
   "version": "1.5.2"
  }
 },
 "nbformat": 4,
 "nbformat_minor": 4
}
