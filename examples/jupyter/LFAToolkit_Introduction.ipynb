{
 "cells": [
  {
   "cell_type": "markdown",
   "metadata": {
    "slideshow": {
     "slide_type": "slide"
    }
   },
   "source": [
    "# <center>LFAToolkit.jl</center>\n",
    "\n",
    "### <center>Jeremy L Thompson</center>\n",
    "\n",
    "Local Fourier Analysis Toolkit for analysis and tuning of multigrid and smoothing techniques for finite element operators with arbitrary, user provided weak forms of partial differential equations\n",
    "\n",
    "<br>\n",
    "<center>\n",
    "    <a href=\"\n",
    "         https://www.github.com/jeremylt/LFAToolkit.jl\">github.com/jeremylt/LFAToolkit.jl</a> \n",
    "</center>\n",
    "<style>\n",
    "//change background settings {}\n",
    "div.slide-background {\n",
    "\tborder-top: 30px midnightblue solid;\n",
    "\tborder-bottom: 30px midnightblue solid;\n",
    "}\n",
    "</style>"
   ]
  },
  {
   "cell_type": "markdown",
   "metadata": {
    "slideshow": {
     "slide_type": "slide"
    }
   },
   "source": [
    "## <center>Overview</center>\n",
    "\n",
    "* Introduction\n",
    "* Mathematical Background\n",
    " - Operator Representation\n",
    " - Local Fourier Analysis\n",
    "* PDE Examples\n",
    " - Poisson Problem\n",
    " - Neo-Hookean Hyperelasticity\n",
    "* Smoother Examples\n",
    " - Jacobi\n",
    " - Chebyshev\n",
    "* Multigrid Examples\n",
    " - p-multigrid\n",
    " - h-multigrid\n",
    "* References"
   ]
  },
  {
   "cell_type": "markdown",
   "metadata": {
    "slideshow": {
     "slide_type": "slide"
    }
   },
   "source": [
    "## <center>Introduction</center>\n",
    "\n",
    "Local Fourier Analysis (LFA) of multigrid and preconditioning methods\n",
    "* models error reduction aross frequencies\n",
    "* predicts convergence of methods\n",
    "* facilitates parameter tuning\n",
    "\n",
    "The technique was first introduced by Brandt in 1977<sup>[2]</sup> for h-multigrid with finite differences\n",
    "\n",
    "Technique was later adapted for finite elements and additional preconditioning techniues"
   ]
  },
  {
   "cell_type": "markdown",
   "metadata": {
    "slideshow": {
     "slide_type": "slide"
    }
   },
   "source": [
    "## <center>Mathematical Background</center>\n",
    "\n",
    "Mathematical representation of finite element operators and Local Fourier Analysis in LFAToolkit.jl"
   ]
  },
  {
   "cell_type": "markdown",
   "metadata": {
    "slideshow": {
     "slide_type": "subslide"
    }
   },
   "source": [
    "## <center>Mathematical Background</center>\n",
    "### <center>Operator Representation</center>\n",
    "\n",
    "LFAToolkit uses a finite element operator representation to facilitate matrix-free implementations <sup>[3]</sup>\n",
    "\n",
    "$$\n",
    "\\int_{\\Omega} v \\cdot f_0 \\left( u, \\nabla u \\right) + \\nabla v : f_1 \\left( u, \\nabla u \\right) = \\int_{\\Omega} f v, \\forall v \\in V\n",
    "$$\n",
    "\n",
    "for some suitable $$V \\subseteq H_0^1 \\left( \\Omega \\right)$$\n",
    "\n",
    "where\n",
    "\n",
    "* $\\cdot$ represents contraction over fields\n",
    "* $:$ represents contraction over fields and spatial dimensions"
   ]
  },
  {
   "cell_type": "markdown",
   "metadata": {
    "slideshow": {
     "slide_type": "subslide"
    }
   },
   "source": [
    "## <center>Mathematical Background</center>\n",
    "### <center>Operator Representation</center>\n",
    "\n",
    "This weak form can be discretized by selecting a finite element basis\n",
    "\n",
    "$$\n",
    "\\color{maroon}{\\mathbf{A}} u = \\sum_e \\mathcal{E}^T_e \\left[\n",
    "  \\left( \\color{royalblue}{\\mathbf{B}}_0^e \\right)^T \\color{royalblue}{\\mathbf{W}}^e \\Lambda \\left( \\color{yellowgreen}{\\mathbf{f_0}} \\left( u^e, \\nabla u^e \\right) \\right)\n",
    "  + \\sum_{i = 1}^d \\left( \\color{royalblue}{\\mathbf{B}}_i^e \\right)^T \\color{royalblue}{\\mathbf{W}}^e \\Lambda \\left( \\color{yellowgreen}{\\mathbf{f_1}} \\left( u^e, \\nabla u^e \\right) \\right)\n",
    "\\right]\n",
    "$$\n",
    "\n",
    "where\n",
    "\n",
    "<p style=\"margin-left:10%;\">$u^e = \\color{royalblue}{\\mathbf{B}}_0^e \\mathcal{E}^e u$ and $\\nabla u^e = \\lbrace \\color{royalblue}{\\mathbf{B}}_i^e \\mathcal{E}^e u \\rbrace_{i = 1}^d$</p>"
   ]
  },
  {
   "cell_type": "markdown",
   "metadata": {
    "slideshow": {
     "slide_type": "subslide"
    }
   },
   "source": [
    "## <center>Mathematical Background</center>\n",
    "### <center>Operator Representation</center>\n",
    "\n",
    "This operator can be represented as\n",
    "\n",
    "$$\n",
    "\\color{maroon}{\\mathbf{A}} = \\mathbf{G}^T \\color{royalblue}{\\mathbf{B}}^T \\color{yellowgreen}{\\mathbf{D}} \\color{royalblue}{\\mathbf{B}} \\mathbf{G}\n",
    "$$\n",
    "\n",
    "where\n",
    "\n",
    "* $\\color{maroon}{\\mathbf{A}}$ - full finite element operator\n",
    "* $\\mathbf{G}$ - element restriction or assembly operator\n",
    "* $\\color{royalblue}{\\mathbf{B}}$ - element basis operator (providing $\\color{royalblue}{\\mathbf{B}}_i$)\n",
    "* $\\color{yellowgreen}{\\mathbf{D}}$ - diagonal pointwise weak form operator (from $\\color{yellowgreen}{\\mathbf{f_0}}$, $\\color{yellowgreen}{\\mathbf{f_1}}$, and element geometry)\n",
    "\n",
    "Note: this representation facilitates matrix-free implementation, such as in libCEED<sup>[1]</sup> (<a href=\"https://github.com/CEED/libCEED\">github.com/CEED/libCEED</a>)"
   ]
  },
  {
   "cell_type": "markdown",
   "metadata": {
    "slideshow": {
     "slide_type": "subslide"
    }
   },
   "source": [
    "## <center>Mathematical Background</center>\n",
    "### <center>Local Fourier Analysis</center>\n",
    "\n",
    "LFA investigates the local properties of the descretized operator\n",
    "\n",
    "Consider a scalar Toeplitz operator $L_h$ on the infinite 1D grid $G_h$\n",
    "\n",
    "$$\n",
    "L_h \\mathrel{\\hat{=}} \\left[ s_\\kappa \\right]_h \\left( \\kappa \\in V \\right)\n",
    "$$\n",
    "$$\n",
    "L_h w_h \\left( x \\right) = \\sum_{\\kappa \\in V} s_\\kappa w_h \\left( x + \\kappa h \\right)\n",
    "$$\n",
    "\n",
    "where\n",
    "\n",
    "* $V \\subset \\mathcal{Z}$ is an index set\n",
    "* $s_\\kappa \\in \\mathcal{R}$ are constant coefficients\n",
    "* $w_h \\left( x \\right)$ is a $l^2$ function on $G_h$"
   ]
  },
  {
   "cell_type": "markdown",
   "metadata": {
    "slideshow": {
     "slide_type": "subslide"
    }
   },
   "source": [
    "## <center>Mathematical Background</center>\n",
    "### <center>Local Fourier Analysis</center>\n",
    "\n",
    "If for all $\\varphi \\left( \\theta, x \\right)$\n",
    "\n",
    "$$\n",
    "L_h \\varphi \\left( \\theta, x \\right) = \\tilde{L}_h \\left( \\theta \\right) \\varphi \\left( \\theta, x \\right)\n",
    "$$\n",
    "\n",
    "then $\\tilde{L}_h \\left( \\theta \\right) = \\sum_{\\kappa \\in V} s_\\kappa e^{\\imath \\theta \\kappa}$ is the **symbol** of $L_h$"
   ]
  },
  {
   "cell_type": "markdown",
   "metadata": {
    "slideshow": {
     "slide_type": "subslide"
    }
   },
   "source": [
    "## <center>Mathematical Background</center>\n",
    "### <center>Local Fourier Analysis</center>\n",
    "\n",
    "For a system of equations, such as the $p \\times p$ linear system of equations representing a scalar problem on a single $p$ order finite element\n",
    "\n",
    "$$\n",
    "\\tilde{L}_h =\n",
    "\\begin{bmatrix}\n",
    "    \\tilde{L}_h^{1, 1}  &&  \\cdots  &&  \\tilde{L}_h^{1, p}  \\\\\n",
    "    \\vdots              &&  \\vdots  &&  \\vdots              \\\\\n",
    "    \\tilde{L}_h^{p, 1}  &&  \\cdots  &&  \\tilde{L}_h^{p, p}  \\\\\n",
    "\\end{bmatrix}\n",
    "$$\n",
    "\n",
    "and multi-component equations are represented in a similar fashion"
   ]
  },
  {
   "cell_type": "markdown",
   "metadata": {
    "slideshow": {
     "slide_type": "subslide"
    }
   },
   "source": [
    "## <center>Mathematical Background</center>\n",
    "### <center>Operator Representation + Local Fourier Analysis</center>\n",
    "\n",
    "We combine these formulations with a localization operator in 1D\n",
    "\n",
    "$$\n",
    "\\tilde{\\color{maroon}{\\mathbf{A}}} \\left( \\mathbf{\\theta} \\right) = \\mathbf{Q}^T \\left( \\color{maroon}{\\mathbf{A}}_e \\odot \\left[ e^{\\imath \\left( x_i - x_j \\right) \\theta / h} \\right] \\right) \\mathbf{Q}\n",
    "$$\n",
    "\n",
    "where\n",
    "\n",
    "* $\\color{maroon}{\\mathbf{A}}_e = \\color{royalblue}{\\mathbf{B}}^T \\color{yellowgreen}{\\mathbf{D}} \\color{royalblue}{\\mathbf{B}}$\n",
    "* $\\mathbf{Q} = \n",
    "\\begin{bmatrix}\n",
    "    I    \\\\\n",
    "    e_0  \\\\\n",
    "\\end{bmatrix} =\n",
    "\\begin{bmatrix}\n",
    "    1       &&  0       &&  \\cdots  &&  0       \\\\\n",
    "    0       &&  1       &&  \\cdots  &&  0       \\\\\n",
    "    \\vdots  &&  \\vdots  &&  \\vdots  &&  \\vdots  \\\\\n",
    "    0       &&  0       &&  \\cdots  &&  1       \\\\\n",
    "    1       &&  0       &&  \\cdots  &&  0       \\\\\n",
    "\\end{bmatrix}\n",
    "$\n",
    "\n",
    "and higher dimensions are represented with a localization operator formed via tensor products"
   ]
  },
  {
   "cell_type": "markdown",
   "metadata": {
    "slideshow": {
     "slide_type": "slide"
    }
   },
   "source": [
    "## <center>PDE Examples</center>\n",
    "\n",
    "PDEs can be represented in LFAToolkit.jl by providing bases, a mesh, and a pointwise representation of the weak form"
   ]
  },
  {
   "cell_type": "markdown",
   "metadata": {
    "slideshow": {
     "slide_type": "subslide"
    }
   },
   "source": [
    "## <center>PDE Example</center>\n",
    "### <center>Poisson Problem</center>\n",
    "\n",
    "As the classic example, let's look at the scalar Poisson problem\n",
    "\n",
    "$$\n",
    "\\int \\nabla v \\nabla u = \\int f v\n",
    "$$\n",
    "\n",
    "$\\color{royalblue}{\\mathbf{B}}$ represents the finite element basis, such as a H1 Lagrange basis on Gauss-Lobatto points\n",
    "\n",
    "$\\color{yellowgreen}{\\mathbf{D}}$ represents the pointwise application of the weak form"
   ]
  },
  {
   "cell_type": "code",
   "execution_count": null,
   "metadata": {
    "scrolled": true,
    "slideshow": {
     "slide_type": "subslide"
    }
   },
   "outputs": [],
   "source": [
    "# setup\n",
    "using LFAToolkit\n",
    "\n",
    "# mesh\n",
    "dim = 2\n",
    "mesh = Mesh2D(1.0, 1.0) # no distortion\n",
    "\n",
    "# basis\n",
    "p = 3\n",
    "basis = TensorH1LagrangeBasis(p, p+1, dim) # order p elem with p+1 quad pts\n",
    "\n",
    "# weak form\n",
    "function diffusionweakform(du::Array{Float64}, w::Array{Float64})\n",
    "    dv = du*w[1]\n",
    "    return dv\n",
    "end\n",
    "\n",
    "# operator\n",
    "inputs = [\n",
    "    OperatorField(basis, [EvaluationMode.gradient]),\n",
    "    OperatorField(basis, [EvaluationMode.quadratureweights]),\n",
    "]\n",
    "outputs = [OperatorField(basis, [EvaluationMode.gradient])]\n",
    "A = Operator(diffusionweakform, mesh, inputs, outputs)"
   ]
  },
  {
   "cell_type": "markdown",
   "metadata": {
    "slideshow": {
     "slide_type": "subslide"
    }
   },
   "source": [
    "## <center>PDE Example</center>\n",
    "### <center>Neo-Hookean Hyperelasticity</center>\n",
    "\n",
    "And for something more complex, the Neo-Hookean hyperelasticity problem\n",
    "\n",
    "The strong form of the static balance of linear-momentum at finite strain is given by\n",
    "\n",
    "$$\n",
    "-\\nabla_x \\cdot \\mathbf{P} - \\rho_0 \\mathbf{g} = \\mathbf{0}\n",
    "$$\n",
    "\n",
    "where $-\\nabla_k$ is the gradient with respect to the reference configuration, $\\mathbf{P}$ is the first Piola-Kirchhoff stress tensor, $\\rho_0$ is the reference mass density, and $\\mathbf{g}$ is the forcing function.\n",
    "\n",
    "The first Piola-Kirchhoff stress tensor is given by\n",
    "\n",
    "$$\n",
    "\\mathbf{P} = \\mathbf{F} \\mathbf{S}\n",
    "$$\n",
    "\n",
    "where $\\mathbf{F}$ is the deformation gradient and $\\mathbf{S}$ is the second Piola-Kirchhoff stress tensor"
   ]
  },
  {
   "cell_type": "code",
   "execution_count": null,
   "metadata": {
    "scrolled": false,
    "slideshow": {
     "slide_type": "subslide"
    }
   },
   "outputs": [],
   "source": [
    "# setup\n",
    "using LFAToolkit\n",
    "using LinearAlgebra\n",
    "\n",
    "dim = 3\n",
    "mesh = Mesh3D(1.0, 1.0, 1.0)\n",
    "p = 3\n",
    "basis = TensorH1LagrangeBasis(p, p+1, dim)\n",
    "\n",
    "# constants\n",
    "e = 1E6                     # Young's modulus\n",
    "ν = 0.3                     # Poisson's ratio\n",
    "K = e/(3*(1 - 2*ν))         # bulk modulus\n",
    "λ = e*ν/((1 + ν)*(1 - 2*ν)) # Lamé parameters\n",
    "μ = e/(2*(1 + ν))\n",
    "\n",
    "# state\n",
    "gradu = [1; 2; 3]*ones(1, 3);\n",
    "\n",
    "function neohookeanweakform(\n",
    "    deltadux::Array{Float64},\n",
    "    deltaduy::Array{Float64},\n",
    "    deltaduz::Array{Float64},\n",
    "    w::Array{Float64},\n",
    ")\n",
    "    # dP = dF S + F dS\n",
    "\n",
    "    # deformation gradient\n",
    "    F = gradu + I\n",
    "    J = det(F)\n",
    "    # Green-Lagrange strain tensor\n",
    "    E = (gradu*gradu' + gradu'*gradu)/2\n",
    "    # right Cauchy-Green tensor\n",
    "    C = 2*E + I\n",
    "    C_inv = C^-1\n",
    "    # second Piola-Kirchhoff\n",
    "    S = λ*log(J)*C_inv + 2*μ*C_inv*E\n",
    "\n",
    "    # delta du\n",
    "    deltadu = [\n",
    "        deltadux'\n",
    "        deltaduy'\n",
    "        deltaduz'\n",
    "    ]\n",
    "    # dF\n",
    "    dF = deltadu + I\n",
    "    # deltaE\n",
    "    deltaE = (deltadu*deltadu' + deltadu'*deltadu)/2\n",
    "    # dS\n",
    "    dS = λ*sum(C_inv.*deltaE)*C_inv + 2*(μ - λ*log(J))*C_inv*deltaE*C_inv\n",
    "    # dP\n",
    "    dP = dF*S + F*dS\n",
    "\n",
    "    return [dP[1, 1:3], dP[2, 1:3], dP[3, 1:3]]\n",
    "end\n",
    "\n",
    "# linearized Neo-Hookean operator\n",
    "inputs = [\n",
    "    OperatorField(basis, [EvaluationMode.gradient], \"gradent of deformation in x\"),\n",
    "    OperatorField(basis, [EvaluationMode.gradient], \"gradent of deformation in y\"),\n",
    "    OperatorField(basis, [EvaluationMode.gradient], \"gradent of deformation in z\"),\n",
    "    OperatorField(basis, [EvaluationMode.quadratureweights], \"quadrature weights\"),\n",
    "]\n",
    "outputs = [\n",
    "    OperatorField(\n",
    "        basis,\n",
    "        [EvaluationMode.gradient],\n",
    "        \"test function gradient of deformation in x\",\n",
    "    ),\n",
    "    OperatorField(\n",
    "         basis,\n",
    "        [EvaluationMode.gradient],\n",
    "        \"test function gradient of deformation in y\",\n",
    "    ),\n",
    "    OperatorField(\n",
    "        basis,\n",
    "        [EvaluationMode.gradient],\n",
    "        \"test function gradient of deformation in z\",\n",
    "    ),\n",
    "]\n",
    "A = Operator(neohookeanweakform, mesh, inputs, outputs)"
   ]
  },
  {
   "cell_type": "markdown",
   "metadata": {
    "slideshow": {
     "slide_type": "slide"
    }
   },
   "source": [
    "## <center>Smoother Examples</center>\n",
    "\n",
    "The error propegation operator for smoothers is given by\n",
    "\n",
    "$$\n",
    "\\mathbf{S} = \\mathbf{I} - \\mathbf{M}^{-1} \\color{maroon}{\\mathbf{A}}\n",
    "$$\n",
    "\n",
    "where $\\mathbf{M}^{-1}$ is the smoothing operator"
   ]
  },
  {
   "cell_type": "markdown",
   "metadata": {
    "slideshow": {
     "slide_type": "subslide"
    }
   },
   "source": [
    "## <center>Smoother Example</center>\n",
    "### <center>Jacobi</center>\n",
    "\n",
    "Lets consider simple Jacobi smoothing\n",
    "\n",
    "$$\n",
    "\\mathbf{M}^{-1} = \\omega \\space \\text{diag} \\left( \\color{maroon}{\\mathbf{A}} \\right)^{-1}\n",
    "$$\n",
    "\n",
    "The error propegation **symbol** is given by\n",
    "\n",
    "$$\n",
    "\\tilde{\\mathbf{S}} \\left( \\omega, \\mathbf{\\theta} \\right) = \\mathbf{I} - \\omega \\space \\text{diag} \\left( \n",
    "\\tilde{\\color{maroon}{\\mathbf{A}}} \\right) \\tilde{\\color{maroon}{\\mathbf{A}}} \\left( \\mathbf{\\theta} \\right)\n",
    "$$"
   ]
  },
  {
   "cell_type": "code",
   "execution_count": null,
   "metadata": {
    "scrolled": false,
    "slideshow": {
     "slide_type": "subslide"
    }
   },
   "outputs": [],
   "source": [
    "# setup\n",
    "using LFAToolkit\n",
    "\n",
    "# mesh\n",
    "dim = 2\n",
    "mesh = Mesh2D(1.0, 1.0)\n",
    "\n",
    "# operator\n",
    "A = GalleryOperator(\"diffusion\", p, p+1, mesh)\n",
    "S = Jacobi(A)"
   ]
  },
  {
   "cell_type": "markdown",
   "metadata": {
    "slideshow": {
     "slide_type": "subslide"
    }
   },
   "source": [
    "## <center>Smoother Example</center>\n",
    "### <center>Chebyshev</center>\n",
    "\n",
    "Lets consider Chebyshev polynomial smoothing\n",
    "\n",
    "$$\n",
    "\\mathbf{M}^{-1} = \\rho_q \\left( \\text{diag} \\left( \\color{maroon}{\\mathbf{A}} \\right)^{-1} \\color{maroon}{\\mathbf{A}} \\right)\n",
    "$$\n",
    "\n",
    "where\n",
    "\n",
    "$\\rho$ is derived from the Chebyshev polynomials<sup>[4]</sup> and $q$ is the polynomial order of the smoother\n",
    "\n",
    "The error propegation **symbol** is given by\n",
    "\n",
    "$$\n",
    "\\tilde{\\mathbf{S}} \\left( q, \\mathbf{\\theta} \\right) = \\mathbf{I} - \\rho_q \\left( \\text{diag} \\left( \\tilde{\\color{maroon}{\\mathbf{A}}} \\right)^{-1} \\tilde{\\color{maroon}{\\mathbf{A}}} \\left( \\mathbf{\\theta} \\right) \\right) \\tilde{\\color{maroon}{\\mathbf{A}}} \\left( \\mathbf{\\theta} \\right)\n",
    "$$"
   ]
  },
  {
   "cell_type": "code",
   "execution_count": null,
   "metadata": {
    "scrolled": false,
    "slideshow": {
     "slide_type": "subslide"
    }
   },
   "outputs": [],
   "source": [
    "# setup\n",
    "using LFAToolkit\n",
    "\n",
    "# mesh\n",
    "dim = 2\n",
    "mesh = Mesh2D(1.0, 1.0)\n",
    "\n",
    "# operator\n",
    "A = GalleryOperator(\"diffusion\", p, p+1, mesh)\n",
    "S = Chebyshev(A)"
   ]
  },
  {
   "cell_type": "markdown",
   "metadata": {
    "slideshow": {
     "slide_type": "slide"
    }
   },
   "source": [
    "## <center>Multigrid Examples</center>\n",
    "\n",
    "The error propegation of a multigrid method is given by\n",
    "\n",
    "$$\n",
    "\\mathbf{M}_{TMG} = \\mathbf{S}_f \\left( \\mathbf{I} - \\mathbf{P}_{ctof} \\color{maroon}{\\mathbf{A}}_c^{-1} \\mathbf{R}_{ftoc} \\color{maroon}{\\mathbf{A}}_f \\right) \\mathbf{S}_f\n",
    "$$\n",
    "\n",
    "where the grid transfer opertors $\\mathbf{P}_{ctof}$ and $\\mathbf{R}_{ftoc}$ determine the type of multigrid method"
   ]
  },
  {
   "cell_type": "markdown",
   "metadata": {
    "slideshow": {
     "slide_type": "subslide"
    }
   },
   "source": [
    "## <center>Multigrid Example</center>\n",
    "### <center>P-Multigrid</center>\n",
    "\n",
    "P-type multigrid coarsens by reducing the order of the finite element bases\n",
    "\n",
    "$$\n",
    "\\mathbf{P}_{ctof} = \\mathbf{P}_f^T \\mathbf{P}_e \\mathbf{P}_c\\\\\n",
    "\\mathbf{P}_e = \\color{yellowgreen}{\\mathbf{D}}_{scale} \\color{royalblue}{\\mathbf{B}}_{ctof}\n",
    "$$\n",
    "\n",
    "Multigrid prolongation is given by interpolating low order basis functions to high order basis nodes\n",
    "\n",
    "$$\n",
    "\\mathbf{R}_{ctof} = \\mathbf{P}_{ctof}^T\n",
    "$$\n",
    "\n",
    "Multigrid restriction is given by the transpose of multigrid prolongation"
   ]
  },
  {
   "cell_type": "code",
   "execution_count": null,
   "metadata": {
    "scrolled": false,
    "slideshow": {
     "slide_type": "subslide"
    }
   },
   "outputs": [],
   "source": [
    "# setup\n",
    "using LFAToolkit\n",
    "\n",
    "# mesh\n",
    "dim = 2\n",
    "mesh = Mesh2D(1.0, 1.0)\n",
    "\n",
    "# bases\n",
    "finep = 3\n",
    "coarsep = 2\n",
    "ctofbasis = TensorH1LagrangeBasis(coarsep, finep, dimension, lagrangequadrature = true)\n",
    "\n",
    "# diffusion operators\n",
    "finediffusion = GalleryOperator(\"diffusion\", finep, finep, mesh)\n",
    "coarsediffusion = GalleryOperator(\"diffusion\", coarsep, finep, mesh)\n",
    "\n",
    "# Chebyshev smoother\n",
    "S = Chebyshev(finediffusion)\n",
    "\n",
    "# p-multigrid preconditioner\n",
    "M = PMultigrid(finediffusion, coarsediffusion, S, [ctofbasis])"
   ]
  },
  {
   "cell_type": "markdown",
   "metadata": {
    "slideshow": {
     "slide_type": "subslide"
    }
   },
   "source": [
    "## <center>Multigrid Example</center>\n",
    "### <center>H-Multigrid</center>\n",
    "\n",
    "H-type multigrid coarsens by combining finite elements to produce a coarser mesh\n",
    "\n",
    "H-multigrid prolongation is interpolation from a single element to a *macro-element*\n",
    "\n",
    "$$\n",
    "\\mathbf{R}_{ctof} = \\mathbf{P}_{ctof}^T\n",
    "$$\n",
    "\n",
    "Restriction is, again, given by the transpose operation"
   ]
  },
  {
   "cell_type": "code",
   "execution_count": null,
   "metadata": {
    "scrolled": false,
    "slideshow": {
     "slide_type": "subslide"
    }
   },
   "outputs": [],
   "source": [
    "# setup\n",
    "using LFAToolkit\n",
    "\n",
    "# mesh\n",
    "dim = 2\n",
    "mesh = Mesh2D(1.0, 1.0)\n",
    "\n",
    "# operators\n",
    "function diffusionweakform(du::Array{Float64}, w::Array{Float64})\n",
    "    dv = du*w[1]\n",
    "    return [dv]\n",
    "end\n",
    "# -- fine\n",
    "basis = TensorH1LagrangeMacroBasis(p, p + 1, dimension, numberfineelements1d);\n",
    "inputs = [\n",
    "    OperatorField(basis, [EvaluationMode.gradient]),\n",
    "    OperatorField(basis, [EvaluationMode.quadratureweights]),\n",
    "];\n",
    "outputs = [OperatorField(basis, [EvaluationMode.gradient])];\n",
    "finediffusion = Operator(diffusionweakform, mesh, inputs, outputs);\n",
    "# -- coarse\n",
    "basis = TensorH1LagrangeBasis(p, p + 1, dimension);\n",
    "inputs = [\n",
    "    OperatorField(basis, [EvaluationMode.gradient]),\n",
    "    OperatorField(basis, [EvaluationMode.quadratureweights]),\n",
    "];\n",
    "outputs = [OperatorField(basis, [EvaluationMode.gradient])];\n",
    "coarsediffusion = Operator(diffusionweakform, mesh, inputs, outputs);\n",
    "\n",
    "# Chebyshev smoother\n",
    "S = Chebyshev(finediffusion)\n",
    "\n",
    "# h-multigrid preconditioner\n",
    "M = HMultigrid(finediffusion, coarsediffusion, S, [ctofbasis])"
   ]
  },
  {
   "cell_type": "markdown",
   "metadata": {
    "slideshow": {
     "slide_type": "slide"
    }
   },
   "source": [
    "## <center>Questions?</center>\n",
    "\n",
    "<center>\n",
    "<a href=\"https://www.github.com/jeremylt\">github.com/jeremylt</a>\n",
    "<br>\n",
    "<a href=\"https://www.github.com/jeremylt/LFAToolkit.jl\">github.com/jeremylt/LFAToolkit.jl</a>\n",
    "</center>"
   ]
  },
  {
   "cell_type": "markdown",
   "metadata": {
    "slideshow": {
     "slide_type": "slide"
    }
   },
   "source": [
    "## <center>References</center>\n",
    "\n",
    "[1] A. Abdelfattah, V. Barra, N. Beams, J. Brown, J.S. Camier,V. Dobrev, Y. Dudouit,L. Ghaffari, T. Kolev, D. Medina, T. Rathnayake, J. L. Thompson,  and S. Tomov, *libCEED User Manual*, Zenodo (2020), https://doi.org/10.5281/zenodo.4302737.\n",
    "\n",
    "[2] A. Brandt, *Multi-level adaptive solutions to boundary-value problems*, Math. Comp., 31(138) (1977), pp. 33-390.\n",
    "\n",
    "[3] J. Brown, *Efficient nonlinear solvers for nodal high-order finite elements in 3D*, Journal of Scientific Computing, 45 (2010), pp. 48-63.\n",
    "\n",
    "[4] M. Gutknecht and S. Röllin,  *The Chebyshev iteration revisited*, Parallel Computing, 28 (2002), pp. 263-283."
   ]
  }
 ],
 "metadata": {
  "celltoolbar": "Slideshow",
  "kernelspec": {
   "display_name": "Julia 1.5.2",
   "language": "julia",
   "name": "julia-1.5"
  },
  "language_info": {
   "file_extension": ".jl",
   "mimetype": "application/julia",
   "name": "julia",
   "version": "1.5.2"
  }
 },
 "nbformat": 4,
 "nbformat_minor": 4
}
