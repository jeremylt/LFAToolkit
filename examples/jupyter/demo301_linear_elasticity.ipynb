{
 "cells": [
  {
   "cell_type": "markdown",
   "metadata": {},
   "source": [
    "# Linear Elasticity Example"
   ]
  },
  {
   "cell_type": "code",
   "execution_count": null,
   "metadata": {},
   "outputs": [],
   "source": [
    "# dependencies\n",
    "using LFAToolkit\n",
    "using LinearAlgebra\n",
    "using Pkg\n",
    "Pkg.activate(\"./\")\n",
    "Pkg.instantiate()\n",
    "using Plots"
   ]
  },
  {
   "cell_type": "code",
   "execution_count": null,
   "metadata": {
    "code_folding": [
     16,
     35
    ]
   },
   "outputs": [],
   "source": [
    "# setup\n",
    "mesh = Mesh3D(1.0, 1.0, 1.0)\n",
    "finep = 3\n",
    "coarsep = 2\n",
    "numbercomponents = 3\n",
    "dimension = 3\n",
    "finebasis = TensorH1LagrangeBasis(finep, finep, numbercomponents, dimension)\n",
    "coarsebasis = TensorH1LagrangeBasis(coarsep, finep, numbercomponents, dimension)\n",
    "ctofbasis = TensorH1LagrangeBasis(coarsep, finep, numbercomponents, dimension, lagrangequadrature = true)\n",
    "\n",
    "# constants\n",
    "E = 1E6                     # Young's modulus\n",
    "ν = 0.3                     # Poisson's ratio\n",
    "λ = E*ν/((1 + ν)*(1 - 2*ν)) # Lamé parameters\n",
    "μ = E/(2*(1 + ν))\n",
    "\n",
    "function linearelasticityweakform(deltadu::Array{Float64}, w::Array{Float64})\n",
    "    # strain\n",
    "    dϵ = (deltadu + deltadu')/2\n",
    "    # strain energy\n",
    "    dσ_11 = (λ + 2μ) * dϵ[1, 1] + λ * dϵ[2, 2] + λ * dϵ[3, 3]\n",
    "    dσ_22 = λ * dϵ[1, 1] + (λ + 2μ) * dϵ[2, 2] + λ * dϵ[3, 3]\n",
    "    dσ_33 = λ * dϵ[1, 1] + λ * dϵ[2, 2] + (λ + 2μ) * dϵ[3, 3]\n",
    "    dσ_12 = μ * dϵ[1, 2]\n",
    "    dσ_13 = μ * dϵ[1, 3]\n",
    "    dσ_23 = μ * dϵ[2, 3]\n",
    "    dσ = [dσ_11 dσ_12 dσ_13; dσ_12 dσ_22 dσ_23; dσ_13 dσ_23 dσ_33]\n",
    "\n",
    "    # delta dv\n",
    "    deltadv = dσ * w[1]\n",
    "\n",
    "    return [deltadv']\n",
    "end\n",
    "\n",
    "# linear elasticity operators\n",
    "function makeoperator(basis::TensorBasis)\n",
    "    inputs = [\n",
    "        OperatorField(basis, [EvaluationMode.gradient], \"gradent of deformation\"),\n",
    "        OperatorField(basis, [EvaluationMode.quadratureweights], \"quadrature weights\"),\n",
    "    ]\n",
    "    outputs = [\n",
    "        OperatorField(\n",
    "            basis,\n",
    "            [EvaluationMode.gradient],\n",
    "            \"test function gradient of deformation\",\n",
    "        ),\n",
    "    ]\n",
    "    return Operator(linearelasticityweakform, mesh, inputs, outputs)\n",
    "end\n",
    "fineoperator = makeoperator(finebasis)\n",
    "coarseoperator = makeoperator(coarsebasis)\n",
    "\n",
    "# Chebyshev smoother\n",
    "chebyshev = Chebyshev(fineoperator)\n",
    "\n",
    "# p-multigrid preconditioner\n",
    "multigrid =\n",
    "    PMultigrid(fineoperator, coarseoperator, chebyshev, [ctofbasis, ctofbasis, ctofbasis])"
   ]
  }
 ],
 "metadata": {
  "kernelspec": {
   "display_name": "Julia 1.5.2",
   "language": "julia",
   "name": "julia-1.5"
  },
  "language_info": {
   "file_extension": ".jl",
   "mimetype": "application/julia",
   "name": "julia",
   "version": "1.5.2"
  }
 },
 "nbformat": 4,
 "nbformat_minor": 4
}
