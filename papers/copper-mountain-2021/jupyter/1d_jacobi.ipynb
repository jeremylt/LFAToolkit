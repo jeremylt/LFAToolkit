{
 "cells": [
  {
   "cell_type": "markdown",
   "metadata": {},
   "source": [
    "# Jacobi Example"
   ]
  },
  {
   "cell_type": "code",
   "execution_count": null,
   "metadata": {
    "scrolled": true
   },
   "outputs": [],
   "source": [
    "# dependencies\n",
    "using LFAToolkit\n",
    "using LinearAlgebra\n",
    "using Pkg\n",
    "Pkg.activate(\"./\")\n",
    "Pkg.instantiate()\n",
    "using Plots"
   ]
  },
  {
   "cell_type": "markdown",
   "metadata": {},
   "source": [
    "## Spectrum of Symbol"
   ]
  },
  {
   "cell_type": "code",
   "execution_count": null,
   "metadata": {
    "code_folding": [
     7
    ]
   },
   "outputs": [],
   "source": [
    "# setup\n",
    "p = 5\n",
    "dimension = 1\n",
    "mesh = Mesh1D(1.0)\n",
    "\n",
    "# operator\n",
    "diffusion = GalleryOperator(\"diffusion\", p, p, mesh)\n",
    "\n",
    "# Jacobi smoother\n",
    "jacobi = Jacobi(diffusion)"
   ]
  },
  {
   "cell_type": "code",
   "execution_count": null,
   "metadata": {
    "code_folding": []
   },
   "outputs": [],
   "source": [
    "# full operator symbols\n",
    "numberruns = 250\n",
    "θ_min = -π/2\n",
    "θ_max = 3π/2\n",
    "\n",
    "# compute and plot smoothing factor\n",
    "# setup\n",
    "ω = [1.0]\n",
    "eigenvalues = zeros(numberruns, p-1)\n",
    "\n",
    "# compute\n",
    "for i in 1:numberruns\n",
    "    θ = [θ_min + (θ_max - θ_min)*i/numberruns]\n",
    "    if abs(θ[1] % 2π) >  π/256\n",
    "        A = computesymbols(jacobi, ω, θ)\n",
    "        currenteigenvalues = [real(val) for val in eigvals(I - A)]\n",
    "        eigenvalues[i, :] = currenteigenvalues\n",
    "    end\n",
    "end\n",
    "\n",
    "# plot\n",
    "xrange = θ_min/π:(θ_max - θ_min)/π/(numberruns-1):θ_max/π\n",
    "plot(\n",
    "    xrange,\n",
    "    xlabel=\"θ/π\",\n",
    "    xtickfont=font(12, \"Courier\"),\n",
    "    eigenvalues,\n",
    "    ytickfont=font(12, \"Courier\"),\n",
    "    ylabel=\"spectral radius\",\n",
    "    linewidth=3,\n",
    "    legend=:none,\n",
    "    title=\"Spectrum of Jacobi Symbol\",\n",
    "    palette=palette(:tab10)\n",
    ")\n",
    "ylims!(min(0.0, eigenvalues...) * 1.1, max(eigenvalues...) * 1.1)"
   ]
  },
  {
   "cell_type": "code",
   "execution_count": null,
   "metadata": {},
   "outputs": [],
   "source": [
    "savefig(\"jacobi_spectrum_5\")"
   ]
  },
  {
   "cell_type": "markdown",
   "metadata": {},
   "source": [
    "## Smoothing Factor"
   ]
  },
  {
   "cell_type": "code",
   "execution_count": null,
   "metadata": {},
   "outputs": [],
   "source": [
    "# setup\n",
    "p = 5\n",
    "dimension = 1\n",
    "mesh = Mesh1D(1.0)\n",
    "\n",
    "# operator\n",
    "diffusion = GalleryOperator(\"diffusion\", p, p, mesh)\n",
    "\n",
    "# Jacobi smoother\n",
    "jacobi = Jacobi(diffusion)"
   ]
  },
  {
   "cell_type": "code",
   "execution_count": null,
   "metadata": {},
   "outputs": [],
   "source": [
    "# full operator symbols\n",
    "numberruns = 250\n",
    "θ_min = -π/2\n",
    "θ_max = 3π/2\n",
    "ω_min = 0.0\n",
    "ω_max = 1.1\n",
    "\n",
    "# compute and plot smoothing factor\n",
    "# setup\n",
    "eigenvalues = zeros(numberruns)\n",
    "\n",
    "# compute\n",
    "for i in 1:numberruns, j in 1:numberruns\n",
    "    θ = [θ_min + (θ_max - θ_min)*i/numberruns]\n",
    "    ω = [ω_min + (ω_max - ω_min)*j/numberruns]\n",
    "    if abs(θ[1] % 2π) >  π/128\n",
    "        A = computesymbols(jacobi, ω, θ)\n",
    "        currenteigenvalues = [abs(val) for val in eigvals(A)]\n",
    "        eigenvalues[j] = max(eigenvalues[j], currenteigenvalues...)\n",
    "    end\n",
    "end\n",
    "\n",
    "# plot\n",
    "xrange = ω_min:(ω_max - ω_min)/(numberruns-1):ω_max\n",
    "plot(\n",
    "    xrange,\n",
    "    xlabel=\"ω\",\n",
    "    xtickfont=font(12, \"Courier\"),\n",
    "    eigenvalues,\n",
    "    ytickfont=font(12, \"Courier\"),\n",
    "    ylabel=\"spectral radius\",\n",
    "    linewidth=3,\n",
    "    legend=:none,\n",
    "    title=\"Jacobi Smoothing Factor\",\n",
    "    palette=palette(:tab10)\n",
    ")\n",
    "ylims!(min(0.0, eigenvalues...) * 1.1, max(eigenvalues...) * 1.1)"
   ]
  },
  {
   "cell_type": "code",
   "execution_count": null,
   "metadata": {},
   "outputs": [],
   "source": [
    "savefig(\"jacobi_smoothing_5\")"
   ]
  }
 ],
 "metadata": {
  "kernelspec": {
   "display_name": "Julia 1.5.2",
   "language": "julia",
   "name": "julia-1.5"
  },
  "language_info": {
   "file_extension": ".jl",
   "mimetype": "application/julia",
   "name": "julia",
   "version": "1.5.2"
  }
 },
 "nbformat": 4,
 "nbformat_minor": 4
}
