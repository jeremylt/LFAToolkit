{
 "cells": [
  {
   "cell_type": "code",
   "execution_count": 4,
   "metadata": {},
   "outputs": [],
   "source": [
    "using LFAToolkit\n",
    "using LinearAlgebra"
   ]
  },
  {
   "cell_type": "code",
   "execution_count": 56,
   "metadata": {},
   "outputs": [
    {
     "data": {
      "text/plain": [
       "p-multigrid preconditioner"
      ]
     },
     "execution_count": 56,
     "metadata": {},
     "output_type": "execute_result"
    }
   ],
   "source": [
    "# setup\n",
    "finep = 6\n",
    "coarsep = 2\n",
    "numbercomponents = 1\n",
    "dimension = 3\n",
    "mesh = Mesh3D(1.0, 1.0, 1.0)\n",
    "\n",
    "ctofbasis = TensorH1LagrangePProlongationBasis(coarsep, finep, numbercomponents, dimension)\n",
    "\n",
    "# diffusion operators\n",
    "finediffusion = GalleryOperator(\"diffusion\", finep, finep+1, mesh)\n",
    "coarsediffusion = GalleryOperator(\"diffusion\", coarsep, finep+1, mesh)\n",
    "\n",
    "# Jacobi smoother\n",
    "jacobi = Jacobi(finediffusion)\n",
    "\n",
    "# p-multigrid preconditioner\n",
    "multigrid = PMultigrid(finediffusion, coarsediffusion, jacobi, [ctofbasis])"
   ]
  },
  {
   "cell_type": "code",
   "execution_count": 57,
   "metadata": {},
   "outputs": [],
   "source": [
    "# full operator symbols\n",
    "numberruns = 25\n",
    "θ_min = -π/2\n",
    "θ_max = 3π/2\n",
    "ω_min = 0.0\n",
    "ω_max = 1.1\n",
    "\n",
    "# compute and plot smoothing factor\n",
    "# setup\n",
    "maxeigenvalue = zeros((finep-1)^dimension)\n",
    "\n",
    "# compute\n",
    "for i in 1:numberruns, j in 1:numberruns, k in 1:numberruns\n",
    "    θ = [\n",
    "        θ_min + (θ_max - θ_min)*i/numberruns,\n",
    "        θ_min + (θ_max - θ_min)*j/numberruns,\n",
    "        θ_min + (θ_max - θ_min)*k/numberruns,\n",
    "        ]\n",
    "    if sqrt(abs(θ[1])^2 + abs(θ[2])^2 + abs(θ[3])^2) >  π/128\n",
    "        A = computesymbols(multigrid, [1.0], [1, 1], θ)\n",
    "        currenteigenvalues = sort([abs(val) for val in eigvals(A)])\n",
    "        maxeigenvalue = [max(currenteigenvalues[i], maxeigenvalue[i]) for i in 1:(finep-1)^dimension]\n",
    "    end\n",
    "end"
   ]
  },
  {
   "cell_type": "code",
   "execution_count": 25,
   "metadata": {},
   "outputs": [
    {
     "data": {
      "text/plain": [
       "64-element Array{Float64,1}:\n",
       " 6.234182574603039e-12\n",
       " 0.0013083727497541523\n",
       " 0.0043872416709085605\n",
       " 0.004760380895055032\n",
       " 0.0057236165522319095\n",
       " 0.007424817222097008\n",
       " 0.007851276796613139\n",
       " 0.009746820357477542\n",
       " 0.010549561131094943\n",
       " 0.011393086469767433\n",
       " 0.012806216265689889\n",
       " 0.013309370834655746\n",
       " 0.01448830633087215\n",
       " ⋮\n",
       " 0.3708688833600361\n",
       " 0.4022774445882951\n",
       " 0.5155656929788817\n",
       " 0.5155656929788849\n",
       " 0.5493353513900792\n",
       " 0.6132036348758616\n",
       " 0.652547809145852\n",
       " 0.6675981390982542\n",
       " 0.793501147501895\n",
       " 0.7935161186032523\n",
       " 0.8927507455074997\n",
       " 1.4345148173746072"
      ]
     },
     "execution_count": 25,
     "metadata": {},
     "output_type": "execute_result"
    }
   ],
   "source": [
    "maxeigenvalue"
   ]
  },
  {
   "cell_type": "code",
   "execution_count": 19,
   "metadata": {},
   "outputs": [
    {
     "data": {
      "text/plain": [
       "27-element Array{Float64,1}:\n",
       " 1.716060548250597e-12\n",
       " 0.004919742387128298\n",
       " 0.00600488683698788\n",
       " 0.010201937992279166\n",
       " 0.010201937992279229\n",
       " 0.010205430471698399\n",
       " 0.03400387115250567\n",
       " 0.04185503371066139\n",
       " 0.04191118466813063\n",
       " 0.04191118466813078\n",
       " 0.04250855381950474\n",
       " 0.048025909428484136\n",
       " 0.08299507152492237\n",
       " ⋮\n",
       " 0.11236051616444943\n",
       " 0.12995178848792965\n",
       " 0.19079722314357603\n",
       " 0.1907972231435766\n",
       " 0.20035160265718874\n",
       " 0.24251373971510767\n",
       " 0.2522879588845543\n",
       " 0.291225468223933\n",
       " 0.31989261453209833\n",
       " 0.4033282196118655\n",
       " 0.5615374061797727\n",
       " 0.9771278831823211"
      ]
     },
     "execution_count": 19,
     "metadata": {},
     "output_type": "execute_result"
    }
   ],
   "source": [
    "maxeigenvalue"
   ]
  },
  {
   "cell_type": "code",
   "execution_count": 22,
   "metadata": {
    "scrolled": true
   },
   "outputs": [
    {
     "data": {
      "text/plain": [
       "8-element Array{Float64,1}:\n",
       " 1.234704137012835e-12\n",
       " 0.023326363024872145\n",
       " 0.027699423720740222\n",
       " 0.05562533899938285\n",
       " 0.06236289632581674\n",
       " 0.09201263522608409\n",
       " 0.13299664975732486\n",
       " 0.31141569180794737"
      ]
     },
     "execution_count": 22,
     "metadata": {},
     "output_type": "execute_result"
    }
   ],
   "source": [
    "maxeigenvalue"
   ]
  },
  {
   "cell_type": "code",
   "execution_count": 32,
   "metadata": {},
   "outputs": [
    {
     "data": {
      "text/plain": [
       "64-element Array{Float64,1}:\n",
       " 1.547692222373154e-16\n",
       " 6.295488949836387e-16\n",
       " 1.329163841933331e-15\n",
       " 1.435439261293575e-15\n",
       " 1.906324718033283e-15\n",
       " 1.947777112733196e-15\n",
       " 4.419224588168184e-15\n",
       " 3.3983801728740554e-12\n",
       " 0.0029507669125171205\n",
       " 0.004388507509055511\n",
       " 0.0073509101665326605\n",
       " 0.007959367043576306\n",
       " 0.00935392177542924\n",
       " ⋮\n",
       " 0.2711412799450402\n",
       " 0.27410479637194773\n",
       " 0.2922374892604545\n",
       " 0.29944264655796426\n",
       " 0.30907793996304406\n",
       " 0.3666963593007576\n",
       " 0.376465946174119\n",
       " 0.4183722341677957\n",
       " 0.7921848231986683\n",
       " 0.7922049282253093\n",
       " 0.8927202219815641\n",
       " 1.434503405707822"
      ]
     },
     "execution_count": 32,
     "metadata": {},
     "output_type": "execute_result"
    }
   ],
   "source": [
    "maxeigenvalue"
   ]
  },
  {
   "cell_type": "code",
   "execution_count": 44,
   "metadata": {},
   "outputs": [
    {
     "data": {
      "text/plain": [
       "27-element Array{Float64,1}:\n",
       " 6.300359764509246e-16\n",
       " 9.615839374783e-16\n",
       " 1.1036545131414104e-15\n",
       " 3.237874904165265e-15\n",
       " 6.519096956266479e-15\n",
       " 1.64919939314296e-14\n",
       " 1.7946216754957126e-14\n",
       " 4.4852772275730204e-14\n",
       " 0.007398554631212121\n",
       " 0.008132279727406955\n",
       " 0.015483899790119184\n",
       " 0.020960131523944672\n",
       " 0.028353749727195537\n",
       " ⋮\n",
       " 0.05252245053953228\n",
       " 0.05707447971699375\n",
       " 0.06763843155307617\n",
       " 0.08532083106259904\n",
       " 0.09280356372264442\n",
       " 0.12256593843046835\n",
       " 0.20018965992361998\n",
       " 0.20020771776849858\n",
       " 0.20410317346625254\n",
       " 0.31945741969174657\n",
       " 0.31945741969175595\n",
       " 0.3776763358297345"
      ]
     },
     "execution_count": 44,
     "metadata": {},
     "output_type": "execute_result"
    }
   ],
   "source": [
    "maxeigenvalue"
   ]
  },
  {
   "cell_type": "code",
   "execution_count": 51,
   "metadata": {},
   "outputs": [
    {
     "data": {
      "text/plain": [
       "125-element Array{Float64,1}:\n",
       " 1.1767307241123423e-15\n",
       " 3.486690583780685e-15\n",
       " 4.1317929869447475e-15\n",
       " 6.449559831129659e-15\n",
       " 6.551638324989093e-15\n",
       " 6.872371176940844e-15\n",
       " 7.998152704370948e-15\n",
       " 8.855714734183755e-15\n",
       " 8.859880087927867e-15\n",
       " 9.005961922582767e-15\n",
       " 1.3275067587676899e-14\n",
       " 1.4051659970427908e-14\n",
       " 1.5837708743650524e-14\n",
       " ⋮\n",
       " 0.43507325771564\n",
       " 0.5241840783640384\n",
       " 0.5293046322697804\n",
       " 0.5383019396162081\n",
       " 0.5463042871883217\n",
       " 0.9857533391919219\n",
       " 0.9864789610114392\n",
       " 0.9864789610114638\n",
       " 1.0052615770738815\n",
       " 1.0085069203596844\n",
       " 1.2013666219778991\n",
       " 1.6634295569720927"
      ]
     },
     "execution_count": 51,
     "metadata": {},
     "output_type": "execute_result"
    }
   ],
   "source": [
    "maxeigenvalue"
   ]
  },
  {
   "cell_type": "code",
   "execution_count": 47,
   "metadata": {},
   "outputs": [
    {
     "data": {
      "text/plain": [
       "64-element Array{Float64,1}:\n",
       " 3.517471474918366e-17\n",
       " 2.1245852183760008e-16\n",
       " 3.705095784430323e-16\n",
       " 3.778378735095786e-16\n",
       " 4.959637342866804e-16\n",
       " 1.0614896529291057e-15\n",
       " 1.1651622777202888e-15\n",
       " 2.0524117128398853e-15\n",
       " 2.1241612016020625e-15\n",
       " 3.2772039855345004e-15\n",
       " 3.3507772995217808e-15\n",
       " 4.092722504218014e-15\n",
       " 4.696797573407917e-15\n",
       " ⋮\n",
       " 0.18667407560366042\n",
       " 0.1958890357570962\n",
       " 0.2162450745137277\n",
       " 0.21624507451374658\n",
       " 0.23199960088595284\n",
       " 0.23861191245212443\n",
       " 0.2686422538316913\n",
       " 0.272356227765766\n",
       " 0.2816046663659054\n",
       " 0.39376095885983114\n",
       " 0.39393664505554893\n",
       " 0.3953680474083098"
      ]
     },
     "execution_count": 47,
     "metadata": {},
     "output_type": "execute_result"
    }
   ],
   "source": [
    "maxeigenvalue"
   ]
  },
  {
   "cell_type": "code",
   "execution_count": 55,
   "metadata": {},
   "outputs": [
    {
     "data": {
      "text/plain": [
       "125-element Array{Float64,1}:\n",
       " 9.425430240490978e-16\n",
       " 3.4254518970972287e-15\n",
       " 3.5241907260014724e-15\n",
       " 5.816700102828751e-15\n",
       " 5.9772805889158415e-15\n",
       " 6.481382959666829e-15\n",
       " 7.680278247127551e-15\n",
       " 6.9596490032602116e-12\n",
       " 0.0003645913511367214\n",
       " 0.0011884087029590087\n",
       " 0.001603899493221634\n",
       " 0.0020357628030274154\n",
       " 0.002062517698615379\n",
       " ⋮\n",
       " 0.5295235567285153\n",
       " 0.541045692016824\n",
       " 0.652275354212914\n",
       " 0.6522966188345998\n",
       " 0.6522966188346\n",
       " 0.993312796921996\n",
       " 0.9949525999140314\n",
       " 0.994952599914047\n",
       " 1.00754122434588\n",
       " 1.0103817443881995\n",
       " 1.203482950380546\n",
       " 1.6634374036585262"
      ]
     },
     "execution_count": 55,
     "metadata": {},
     "output_type": "execute_result"
    }
   ],
   "source": [
    "maxeigenvalue"
   ]
  },
  {
   "cell_type": "code",
   "execution_count": 58,
   "metadata": {},
   "outputs": [
    {
     "data": {
      "text/plain": [
       "125-element Array{Float64,1}:\n",
       " 6.6998207885761245e-12\n",
       " 0.00032075868460951435\n",
       " 0.0007179279327454127\n",
       " 0.0010345200218892646\n",
       " 0.0010859972815475036\n",
       " 0.0015566444270119627\n",
       " 0.0021096842975218285\n",
       " 0.002392094958866554\n",
       " 0.003968602146108527\n",
       " 0.004622988820757441\n",
       " 0.0050547463061582825\n",
       " 0.006833835211330266\n",
       " 0.0071201779318284105\n",
       " ⋮\n",
       " 0.6515463015218126\n",
       " 0.6515486664072521\n",
       " 0.7430255223745853\n",
       " 0.7587693046529523\n",
       " 0.8126939417992586\n",
       " 0.9946568514149535\n",
       " 0.9952396805118412\n",
       " 0.9952396805118557\n",
       " 1.0179730899847725\n",
       " 1.018157077853667\n",
       " 1.208739983392569\n",
       " 1.6710909316057463"
      ]
     },
     "execution_count": 58,
     "metadata": {},
     "output_type": "execute_result"
    }
   ],
   "source": [
    "maxeigenvalue"
   ]
  },
  {
   "cell_type": "code",
   "execution_count": null,
   "metadata": {},
   "outputs": [],
   "source": []
  }
 ],
 "metadata": {
  "kernelspec": {
   "display_name": "Julia 1.5.2",
   "language": "julia",
   "name": "julia-1.5"
  },
  "language_info": {
   "file_extension": ".jl",
   "mimetype": "application/julia",
   "name": "julia",
   "version": "1.5.2"
  }
 },
 "nbformat": 4,
 "nbformat_minor": 4
}
