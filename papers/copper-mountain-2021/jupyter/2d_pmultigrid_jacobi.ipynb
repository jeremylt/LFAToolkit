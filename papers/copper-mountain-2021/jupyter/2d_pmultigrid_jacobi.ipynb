{
 "cells": [
  {
   "cell_type": "markdown",
   "metadata": {},
   "source": [
    "# P-Multigrid + Jacobi Example"
   ]
  },
  {
   "cell_type": "code",
   "execution_count": null,
   "metadata": {
    "scrolled": true
   },
   "outputs": [],
   "source": [
    "# dependencies\n",
    "using LFAToolkit\n",
    "using LinearAlgebra\n",
    "using Pkg\n",
    "Pkg.activate(\"./\")\n",
    "Pkg.instantiate()\n",
    "using Plots"
   ]
  },
  {
   "cell_type": "markdown",
   "metadata": {},
   "source": [
    "## Smoothing Factor"
   ]
  },
  {
   "cell_type": "code",
   "execution_count": null,
   "metadata": {
    "code_folding": [
     7
    ]
   },
   "outputs": [],
   "source": [
    "# setup\n",
    "finep = 5\n",
    "coarsep = 3\n",
    "dimension = 2\n",
    "numbercomponents = 1\n",
    "mesh = Mesh2D(1.0, 1.0)\n",
    "\n",
    "ctofbasis = TensorH1LagrangePProlongationBasis(coarsep, finep, numbercomponents, dimension)\n",
    "\n",
    "# diffusion operators\n",
    "finediffusion = GalleryOperator(\"diffusion\", finep, finep, mesh)\n",
    "coarsediffusion = GalleryOperator(\"diffusion\", coarsep, finep, mesh)\n",
    "\n",
    "# Jacobi smoother\n",
    "jacobi = Jacobi(finediffusion)\n",
    "\n",
    "# p-multigrid preconditioner\n",
    "multigrid = PMultigrid(finediffusion, coarsediffusion, jacobi, [ctofbasis])"
   ]
  },
  {
   "cell_type": "code",
   "execution_count": null,
   "metadata": {
    "code_folding": [
     13,
     30
    ]
   },
   "outputs": [],
   "source": [
    "# full operator symbols\n",
    "numberruns = 200\n",
    "numberrunsω = 50\n",
    "θ_min = -π/2\n",
    "θ_max = 3π/2\n",
    "ω_min = 0.0\n",
    "ω_max = 1.1\n",
    "\n",
    "# compute and plot smoothing factor\n",
    "# setup\n",
    "eigenvalues = zeros(numberrunsω)\n",
    "\n",
    "# compute\n",
    "for w in 1:numberrunsω\n",
    "    ω = [ω_min + (ω_max - ω_min)*w/numberrunsω]\n",
    "    for i in 1:numberruns, j in 1:numberruns\n",
    "        θ = [\n",
    "            θ_min + (θ_max - θ_min)*i/numberruns,\n",
    "            θ_min + (θ_max - θ_min)*j/numberruns,\n",
    "        ]\n",
    "        if abs(θ[1] % 2π) >  π/256\n",
    "            A = computesymbols(multigrid, ω, [1, 1], θ)\n",
    "            currenteigenvalues = [abs(val) for val in eigvals(A)]\n",
    "            eigenvalues[w] = max(eigenvalues[w], currenteigenvalues...)\n",
    "        end\n",
    "    end\n",
    "end\n",
    "\n",
    "# plot\n",
    "xrange = ω_min:(ω_max - ω_min)/(numberrunsω-1):ω_max\n",
    "plot(\n",
    "    xrange,\n",
    "    xlabel=\"ω\",\n",
    "    xtickfont=font(12, \"Courier\"),\n",
    "    eigenvalues,\n",
    "    ytickfont=font(12, \"Courier\"),\n",
    "    ylabel=\"spectral radius\",\n",
    "    linewidth=3,\n",
    "    legend=:none,\n",
    "    title=\"Two-Grid Convergence Factor\",\n",
    "    palette=palette(:tab10)\n",
    ")\n",
    "ylims!(min(0.0, eigenvalues...) * 1.1, max(eigenvalues...) * 1.1)"
   ]
  },
  {
   "cell_type": "code",
   "execution_count": null,
   "metadata": {},
   "outputs": [],
   "source": [
    "savefig(\"two_grid_converge_5_to_3_2d\")"
   ]
  }
 ],
 "metadata": {
  "kernelspec": {
   "display_name": "Julia 1.5.2",
   "language": "julia",
   "name": "julia-1.5"
  },
  "language_info": {
   "file_extension": ".jl",
   "mimetype": "application/julia",
   "name": "julia",
   "version": "1.5.2"
  }
 },
 "nbformat": 4,
 "nbformat_minor": 4
}
