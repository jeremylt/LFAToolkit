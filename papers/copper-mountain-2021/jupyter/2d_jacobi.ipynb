{
 "cells": [
  {
   "cell_type": "markdown",
   "metadata": {},
   "source": [
    "# Jacobi Example"
   ]
  },
  {
   "cell_type": "code",
   "execution_count": null,
   "metadata": {
    "scrolled": true
   },
   "outputs": [],
   "source": [
    "# dependencies\n",
    "using LFAToolkit\n",
    "using LinearAlgebra\n",
    "using Pkg\n",
    "Pkg.activate(\"./\")\n",
    "Pkg.instantiate()\n",
    "using Plots"
   ]
  },
  {
   "cell_type": "markdown",
   "metadata": {},
   "source": [
    "## Smoothing Factor"
   ]
  },
  {
   "cell_type": "code",
   "execution_count": null,
   "metadata": {
    "code_folding": [
     7
    ]
   },
   "outputs": [],
   "source": [
    "# setup\n",
    "p = 5\n",
    "dimension = 2\n",
    "mesh = Mesh2D(1.0, 1.0)\n",
    "\n",
    "# operator\n",
    "diffusion = GalleryOperator(\"diffusion\", p, p, mesh)\n",
    "\n",
    "# Jacobi smoother\n",
    "jacobi = Jacobi(diffusion)"
   ]
  },
  {
   "cell_type": "code",
   "execution_count": null,
   "metadata": {
    "code_folding": [
     20,
     22,
     32
    ],
    "scrolled": true
   },
   "outputs": [],
   "source": [
    "# full operator symbols\n",
    "numbersteps = 100\n",
    "maxeigenvalue = 0\n",
    "θ_min = -π/2\n",
    "θ_min_high = π/2\n",
    "θ_max = 3π/2\n",
    "θ_step = 2π/(numbersteps-1)\n",
    "θ_range = θ_min:θ_step:θ_max\n",
    "ω_min = 0.0\n",
    "ω_max = 1.1\n",
    "ω_step = (ω_max-ω_min)/(numbersteps-1)\n",
    "ω_range = ω_min:ω_step:ω_max\n",
    "\n",
    "# compute and plot smoothing factor\n",
    "# setup\n",
    "eigenvalues = zeros(numbersteps)\n",
    "\n",
    "# compute\n",
    "for i in 1:numbersteps, j in 1:numbersteps\n",
    "    θ = [θ_range[i], θ_range[j]]\n",
    "    if (θ[1] > θ_min_high || θ[2] > θ_min_high)\n",
    "        A = I - computesymbols(jacobi, [1.0], θ)\n",
    "        for w in 1:numbersteps\n",
    "            ω = ω_range[w]\n",
    "            currenteigenvalues = [abs(val) for val in eigvals(I - ω*A)]\n",
    "            eigenvalues[w] = max(eigenvalues[w], currenteigenvalues...)\n",
    "        end\n",
    "    end\n",
    "end\n",
    "\n",
    "# plot\n",
    "xrange = ω_range\n",
    "plot(\n",
    "    xrange,\n",
    "    xlabel=\"ω\",\n",
    "    xtickfont=font(12, \"Courier\"),\n",
    "    eigenvalues,\n",
    "    ytickfont=font(12, \"Courier\"),\n",
    "    ylabel=\"smoothing factor\",\n",
    "    linewidth=3,\n",
    "    legend=:none,\n",
    "    title=\"Jacobi Smoothing Factor\",\n",
    "    palette=palette(:tab10)\n",
    ")\n",
    "ylims!(min(0.0, eigenvalues...) * 1.1, max(eigenvalues...) * 1.1)"
   ]
  },
  {
   "cell_type": "code",
   "execution_count": null,
   "metadata": {},
   "outputs": [],
   "source": [
    "savefig(\"jacobi_smoothing_5_2d\")"
   ]
  }
 ],
 "metadata": {
  "kernelspec": {
   "display_name": "Julia 1.5.2",
   "language": "julia",
   "name": "julia-1.5"
  },
  "language_info": {
   "file_extension": ".jl",
   "mimetype": "application/julia",
   "name": "julia",
   "version": "1.5.2"
  }
 },
 "nbformat": 4,
 "nbformat_minor": 4
}
